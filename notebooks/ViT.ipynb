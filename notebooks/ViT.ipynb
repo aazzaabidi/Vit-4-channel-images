# vit.py
import tensorflow as tf
from tensorflow import keras
from tensorflow.keras import layers
from sklearn.metrics import accuracy_score, f1_score
import numpy as np
import os
from utils.metrics import calculate_metrics, print_metrics_summary
from utils.visualization import save_visualizations

class Patches(layers.Layer):
    def __init__(self, patch_size):
        super().__init__()
        self.patch_size = patch_size

    def call(self, images):
        batch_size = tf.shape(images)[0]
        patches = tf.image.extract_patches(
            images=images,
            sizes=[1, self.patch_size, self.patch_size, 1],
            strides=[1, self.patch_size, self.patch_size, 1],
            rates=[1, 1, 1, 1],
            padding="VALID",
        )
        return tf.reshape(patches, [batch_size, -1, self.patch_size * self.patch_size * 3])

class PatchEncoder(layers.Layer):
    def __init__(self, num_patches, projection_dim):
        super().__init__()
        self.num_patches = num_patches
        self.projection = layers.Dense(units=projection_dim)
        self.position_embedding = layers.Embedding(
            input_dim=num_patches, output_dim=projection_dim
        )

    def call(self, patch):
        positions = tf.expand_dims(
            tf.range(start=0, limit=self.num_patches, delta=1), axis=0
        )
        projected_patches = self.projection(patch)
        encoded = projected_patches + self.position_embedding(positions)
        return encoded

def mlp(x, hidden_units, dropout_rate):
    for units in hidden_units:
        x = layers.Dense(units, activation=keras.activations.gelu)(x)
        x = layers.Dropout(dropout_rate)(x)
    return x

def create_vit_classifier(input_shape, num_classes, patch_size=16, projection_dim=64, 
                         num_heads=4, transformer_layers=6, mlp_head_units=[128, 64]):
    """Create a Vision Transformer classifier model."""
    inputs = layers.Input(shape=input_shape)
    
    # Create patches
    num_patches = (input_shape[0] // patch_size) ** 2
    patches = Patches(patch_size)(inputs)
    
    # Encode patches
    encoded_patches = PatchEncoder(num_patches, projection_dim)(patches)

    # Transformer blocks
    for _ in range(transformer_layers):
        # Layer normalization 1
        x1 = layers.LayerNormalization(epsilon=1e-6)(encoded_patches)
        
        # Multi-head attention
        attention_output = layers.MultiHeadAttention(
            num_heads=num_heads, key_dim=projection_dim, dropout=0.1
        )(x1, x1)
        
        # Skip connection 1
        x2 = layers.Add()([attention_output, encoded_patches])
        
        # Layer normalization 2
        x3 = layers.LayerNormalization(epsilon=1e-6)(x2)
        
        # MLP
        x3 = mlp(x3, hidden_units=[projection_dim * 2, projection_dim], dropout_rate=0.1)
        
        # Skip connection 2
        encoded_patches = layers.Add()([x3, x2])

    # Classification head
    representation = layers.LayerNormalization(epsilon=1e-6)(encoded_patches)
    representation = layers.Flatten()(representation)
    representation = layers.Dropout(0.5)(representation)
    features = mlp(representation, hidden_units=mlp_head_units, dropout_rate=0.5)
    logits = layers.Dense(num_classes)(features)
    
    return keras.Model(inputs=inputs, outputs=logits)

def train_and_evaluate(train_x, train_y, valid_x, valid_y, test_x, test_y, 
                      input_shape, num_classes, class_names=None, 
                      model_name="ViT", epochs=100, batch_size=32):
    """End-to-end training and evaluation pipeline."""
    # Create model
    model = create_vit_classifier(input_shape, num_classes)
    
    # Compile
    optimizer = keras.optimizers.AdamW(learning_rate=3e-4, weight_decay=0.001)
    model.compile(
        optimizer=optimizer,
        loss=keras.losses.SparseCategoricalCrossentropy(from_logits=True),
        metrics=["accuracy"]
    )
    
    # Callbacks
    callbacks = [
        keras.callbacks.EarlyStopping(patience=10, restore_best_weights=True),
        keras.callbacks.ReduceLROnPlateau(factor=0.5, patience=3)
    ]
    
    # Train
    history = model.fit(
        x=train_x,
        y=train_y,
        batch_size=batch_size,
        epochs=epochs,
        validation_data=(valid_x, valid_y),
        callbacks=callbacks
    )
    
    # Evaluate
    y_pred = np.argmax(model.predict(test_x), axis=1)
    
    # Calculate and save metrics
    metrics = calculate_metrics(test_y, y_pred, model_name)
    print_metrics_summary(metrics)
    
    # Save visualizations
    save_visualizations(
        model=model,
        x_data=test_x,
        y_true=test_y,
        y_pred=y_pred,
        model_name=model_name,
        class_names=class_names
    )
    
    return model, history, metrics
