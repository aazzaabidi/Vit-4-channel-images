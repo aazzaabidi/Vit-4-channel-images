{
 "cells": [
  {
   "cell_type": "markdown",
   "metadata": {},
   "source": [
    "**Requirements:**\n",
    "- scikit-learn\n",
    "- numpy\n",
    "- joblib\n",
    "- Your own `utils/metrics.py` and `utils/visualization.py` scripts"
   ]
  },
  {
   "cell_type": "code",
   "metadata": {},
   "execution_count": null,
   "outputs": [],
   "source": [
    "import numpy as np\n",
    "import os\n",
    "import joblib\n",
    "from sklearn.ensemble import RandomForestClassifier\n",
    "from sklearn.model_selection import GridSearchCV, PredefinedSplit\n",
    "from utils.metrics import calculate_metrics, print_metrics_summary\n",
    "from utils.visualization import save_visualizations"
   ]
  },
  {
   "cell_type": "markdown",
   "metadata": {},
   "source": [

   ]
  },
  {
   "cell_type": "code",
   "metadata": {},
   "execution_count": null,
   "outputs": [],
   "source": [
    "def run_random_forest(train_X, valid_X, train_y, valid_y, test_X, test_y, \n",
    "                      model_name=\"RandomForest\", class_names=None, \n",
    "                      save_dir=\"saved_models\"):\n",
    "    os.makedirs(save_dir, exist_ok=True)\n",
    "    print(\"\\n=== RANDOM FOREST CLASSIFICATION ===\")\n",
    "\n",
    "    tuned_parameters = {\n",
    "        'n_estimators': [50, 100, 200],\n",
    "        'max_depth': [5, 10, None],\n",
    "        'min_samples_split': [2, 5],\n",
    "        'class_weight': ['balanced', None]\n",
    "    }\n",
    "\n",
    "    X = np.concatenate((train_X, valid_X), axis=0)\n",
    "    y = np.concatenate((train_y, valid_y), axis=0)\n",
    "    test_fold = np.concatenate([\n",
    "        np.full(train_y.shape[0], -1),\n",
    "        np.zeros(valid_y.shape[0])\n",
    "    ])\n",
    "\n",
    "    clf = GridSearchCV(\n",
    "        estimator=RandomForestClassifier(random_state=42),\n",
    "        param_grid=tuned_parameters,\n",
    "        cv=PredefinedSplit(test_fold),\n",
    "        n_jobs=-1,\n",
    "        verbose=2,\n",
    "        scoring='f1_weighted'\n",
    "    )\n",
    "    clf.fit(X, y)\n",
    "\n",
    "    best_model = clf.best_estimator_\n",
    "\n",
    "    test_X_flat = test_X.reshape(test_X.shape[0], -1) if test_X.ndim > 2 else test_X\n",
    "    test_pred = best_model.predict(test_X_flat)\n",
    "    metrics = calculate_metrics(test_y, test_pred, model_name)\n",
    "\n",
    "    print(\"\\n=== BEST PARAMETERS ===\")\n",
    "    print(clf.best_params_)\n",
    "    print_metrics_summary(metrics)\n",
    "\n",
    "    save_visualizations(\n",
    "        model=best_model,\n",
    "        x_data=test_X_flat,\n",
    "        y_true=test_y,\n",
    "        y_pred=test_pred,\n",
    "        model_name=model_name,\n",
    "        class_names=class_names\n",
    "    )\n",
    "\n",
    "    model_path = os.path.join(save_dir, f\"{model_name}.joblib\")\n",
    "    joblib.dump(best_model, model_path)\n",
    "    print(f\"\\nModel saved to {model_path}\")\n",
    "\n",
    "    metrics_path = os.path.join(save_dir, f\"{model_name}_metrics.txt\")\n",
    "    with open(metrics_path, 'w') as f:\n",
    "        f.write(f\"Best Parameters:\\n{clf.best_params_}\\n\\n\")\n",
    "        f.write(\"Evaluation Metrics:\\n\")\n",
    "        for k, v in metrics.items():\n",
    "            f.write(f\"{k}: {v}\\n\")\n",
    "    print(f\"Metrics saved to {metrics_path}\")\n",
    "\n",
    "    return best_model, metrics"
   ]
  },
  {
   "cell_type": "markdown",
   "metadata": {},
   "source": [

   ]
  },
  {
   "cell_type": "code",
   "metadata": {},
   "execution_count": null,
   "outputs": [],
   "source": [
    "def load_random_forest(model_path):\n",
    "    \"\"\"Load a saved RandomForest model\"\"\"\n",
    "    if not os.path.exists(model_path):\n",
    "        raise FileNotFoundError(f\"No model found at {model_path}\")\n",
    "    return joblib.load(model_path)"
   ]
  },
  {
   "cell_type": "markdown",
   "metadata": {},
   "source": [
    "##  Example Usage (Assumes Data Is Loaded)\n",
    "\n",
    "*Uncomment and adapt the following code for real use:*"
   ]
  },
  {
   "cell_type": "code",
   "metadata": {},
   "execution_count": null,
   "outputs": [],
   "source": [
    "# best_model, metrics = run_random_forest(\n",
    "#     train_X, valid_X, train_y, valid_y,\n",
    "#     test_X, test_y,\n",
    "#     model_name=\"MyRandomForestModel\",\n",
    "#     class_names=[\"Class1\", \"Class2\", \"Class3\"]\n",
    "# )"
   ]
  }
 ],
 "metadata": {
  "kernelspec": {
   "display_name": "Python 3",
   "language": "python",
   "name": "python3"
  },
  "language_info": {
   "name": "python",
   "version": "3.x"
  }
 },
 "nbformat": 4,
 "nbformat_minor": 2
}
